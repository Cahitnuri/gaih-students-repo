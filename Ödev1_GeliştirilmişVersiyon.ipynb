{
  "nbformat": 4,
  "nbformat_minor": 0,
  "metadata": {
    "colab": {
      "name": "Ödev1-GeliştirilmişVersiyon",
      "provenance": [],
      "authorship_tag": "ABX9TyPgvS697sondc2ijh0NaueT",
      "include_colab_link": true
    },
    "kernelspec": {
      "name": "python3",
      "display_name": "Python 3"
    }
  },
  "cells": [
    {
      "cell_type": "markdown",
      "metadata": {
        "id": "view-in-github",
        "colab_type": "text"
      },
      "source": [
        "<a href=\"https://colab.research.google.com/github/Cahitnuri/gaih-students-repo-example/blob/main/%C3%96dev1_Geli%C5%9Ftirilmi%C5%9FVersiyon.ipynb\" target=\"_parent\"><img src=\"https://colab.research.google.com/assets/colab-badge.svg\" alt=\"Open In Colab\"/></a>"
      ]
    },
    {
      "cell_type": "code",
      "metadata": {
        "colab": {
          "base_uri": "https://localhost:8080/"
        },
        "id": "3I4qmbpC9jA9",
        "outputId": "4da20332-e86e-4b89-dcd4-c4abbc5b945c"
      },
      "source": [
        "print ('Lütfen 4 tane tek ve 4 tane çift sayı giriniz') \n",
        "\n",
        "listodd = []\n",
        "listeven = []\n",
        "while True:\n",
        "    print(len(listodd),len(listeven))\n",
        "    sayi=int(input(\"bir sayi girin: \"))\n",
        "    if len(listodd) == 4 and len(listeven)==4:\n",
        "        break\n",
        "    if sayi not in listodd and sayi not in listeven:\n",
        "        if sayi % 2 == 0 and len(listeven) != 4:\n",
        "            listeven.append(sayi)\n",
        "        elif sayi % 2 != 0 and len(listodd) != 4:\n",
        "            listodd.append(sayi)\n",
        "listodd.extend(listeven)\n",
        "list_new = list (listodd)\n",
        "print (list_new)\n",
        "\n",
        "list_new.sort()\n",
        "print(list_new)\n",
        "\n",
        "list_new = [x*2 for x in(list_new)]\n",
        "print (list_new)\n",
        "\n",
        "for x in list_new:\n",
        "    print(\"{} veri tipi: {}\".format(x, type(x)))"
      ],
      "execution_count": null,
      "outputs": [
        {
          "output_type": "stream",
          "text": [
            "Lütfen 4 tane tek ve 4 tane çift sayı giriniz\n",
            "0 0\n"
          ],
          "name": "stdout"
        }
      ]
    },
    {
      "cell_type": "code",
      "metadata": {
        "id": "RjDGSNqu0rj1"
      },
      "source": [
        ""
      ],
      "execution_count": null,
      "outputs": []
    },
    {
      "cell_type": "code",
      "metadata": {
        "id": "OX-grKo09kRq"
      },
      "source": [
        ""
      ],
      "execution_count": null,
      "outputs": []
    }
  ]
}